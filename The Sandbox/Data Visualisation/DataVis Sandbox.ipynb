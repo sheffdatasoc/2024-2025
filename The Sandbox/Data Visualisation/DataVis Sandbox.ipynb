{
 "cells": [
  {
   "cell_type": "markdown",
   "metadata": {},
   "source": [
    "# SHEFF DATASOC 24/25\n",
    "# DATA VISUALISATION SANDBOX SESSION"
   ]
  },
  {
   "cell_type": "markdown",
   "metadata": {},
   "source": [
    "## Setup\n",
    "### Load Iris and add Average Sepal Length"
   ]
  },
  {
   "cell_type": "code",
   "execution_count": 2,
   "metadata": {},
   "outputs": [],
   "source": [
    "import seaborn as sns\n",
    "import matplotlib.pyplot as plt\n",
    "\n",
    "# Load the Iris dataset\n",
    "iris = sns.load_dataset('iris')\n",
    "avg_sepal_length = iris.groupby('species')['sepal_length'].mean().reset_index()"
   ]
  },
  {
   "cell_type": "markdown",
   "metadata": {},
   "source": [
    "## Challenge 1: Basic Plots\n",
    "### Objectives: \n",
    "-  Create a basic Line Plot\n",
    "- Create a basic Bar Chart\n",
    "- Add Labels, Title and Grid\n"
   ]
  },
  {
   "cell_type": "code",
   "execution_count": null,
   "metadata": {},
   "outputs": [],
   "source": [
    "## Write your answers here"
   ]
  },
  {
   "cell_type": "markdown",
   "metadata": {},
   "source": [
    "## Challenge 2\n",
    "\n",
    "### Objective: \n",
    "- Create a Histogram\n",
    "- Is it skewed? \n",
    "- What Statistics can you draw from it?\n"
   ]
  },
  {
   "cell_type": "code",
   "execution_count": null,
   "metadata": {},
   "outputs": [],
   "source": [
    "## Write your answers here"
   ]
  },
  {
   "cell_type": "markdown",
   "metadata": {},
   "source": [
    "# Challenge 3\n",
    "\n",
    "### Objectives:\n",
    "- Add a colour map to it\n",
    "- Colour bar too ? \n",
    "- How do I know which species is which?"
   ]
  },
  {
   "cell_type": "code",
   "execution_count": null,
   "metadata": {},
   "outputs": [],
   "source": [
    "## Write your answers here\n",
    "\n",
    "c=iris['species'].astype('category').cat.codes #How to encode for colour"
   ]
  },
  {
   "cell_type": "markdown",
   "metadata": {},
   "source": [
    "## Challenge 4: \n",
    "### Ojectives:\n",
    "-  Create a Box Plot\n",
    "- Add a palette, a grid, detail\n",
    "- Can you tell what the outliers are from this?\n"
   ]
  },
  {
   "cell_type": "code",
   "execution_count": null,
   "metadata": {},
   "outputs": [],
   "source": [
    "## Write your answers here:"
   ]
  },
  {
   "cell_type": "markdown",
   "metadata": {},
   "source": [
    "## Challenge 5: \n",
    "### Objectives:\n",
    "-  Create a Heatmap\n",
    "- Can you now tell which features are creating noise?\n",
    "- Make sure all number has 2 decimal places\n"
   ]
  },
  {
   "cell_type": "code",
   "execution_count": null,
   "metadata": {},
   "outputs": [],
   "source": [
    "## Write your answer here\n",
    "\n",
    "correlation = iris.select_dtypes(include=['float64', 'int64']).corr() #Use this correlation"
   ]
  },
  {
   "cell_type": "markdown",
   "metadata": {},
   "source": [
    "## Challenge 6:\n",
    "\n",
    "### Objectives:\n",
    "- Use subplots\n",
    "- Show both the scatter plot and boxplot side by side\n",
    "- Use a tight layout\n"
   ]
  },
  {
   "cell_type": "code",
   "execution_count": null,
   "metadata": {},
   "outputs": [],
   "source": [
    "## Write your answer here"
   ]
  },
  {
   "cell_type": "markdown",
   "metadata": {},
   "source": [
    "## Finale:\n",
    "### Objectives:\n",
    "- Present all the plots we’ve made today together\n",
    "- Save the figure as jpg/png\n"
   ]
  },
  {
   "cell_type": "code",
   "execution_count": null,
   "metadata": {},
   "outputs": [],
   "source": [
    "## Write your answer here"
   ]
  }
 ],
 "metadata": {
  "kernelspec": {
   "display_name": "Python 3",
   "language": "python",
   "name": "python3"
  },
  "language_info": {
   "codemirror_mode": {
    "name": "ipython",
    "version": 3
   },
   "file_extension": ".py",
   "mimetype": "text/x-python",
   "name": "python",
   "nbconvert_exporter": "python",
   "pygments_lexer": "ipython3",
   "version": "3.8.10"
  }
 },
 "nbformat": 4,
 "nbformat_minor": 2
}
