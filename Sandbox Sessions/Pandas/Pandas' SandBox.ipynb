{
 "cells": [
  {
   "cell_type": "markdown",
   "metadata": {},
   "source": [
    "# Panda's SandBox Challenges\n",
    "Refer to the guide on the society website \n",
    "https://uosdss.wordpress.com/ \n",
    "\n",
    "Download the data From: https://www.kaggle.com/datasets/shivamb/netflix-shows?resource=download \n"
   ]
  },
  {
   "cell_type": "markdown",
   "metadata": {},
   "source": [
    "# Step1: Setup "
   ]
  },
  {
   "cell_type": "code",
   "execution_count": null,
   "metadata": {},
   "outputs": [],
   "source": [
    "# install the library\n",
    "pip install pandas"
   ]
  },
  {
   "cell_type": "code",
   "execution_count": 2,
   "metadata": {},
   "outputs": [],
   "source": [
    "#Import the Library\n"
   ]
  },
  {
   "cell_type": "code",
   "execution_count": 3,
   "metadata": {},
   "outputs": [],
   "source": [
    "# Import the data \n"
   ]
  },
  {
   "cell_type": "markdown",
   "metadata": {},
   "source": [
    "# challenge1: \n",
    "- Display the first five rows of the data frame.\n",
    "- Get a summary of the data.\n",
    "- How many shows are there in the data set?\n",
    "- Get the year that most shows were released on\n"
   ]
  },
  {
   "cell_type": "code",
   "execution_count": null,
   "metadata": {},
   "outputs": [],
   "source": []
  },
  {
   "cell_type": "markdown",
   "metadata": {},
   "source": [
    "# challenge 2:\n",
    "- How often does each country appear in the dataset?\n",
    "- sort them descendingly \n",
    "- Which country produces the most?"
   ]
  },
  {
   "cell_type": "code",
   "execution_count": null,
   "metadata": {},
   "outputs": [],
   "source": []
  },
  {
   "cell_type": "markdown",
   "metadata": {},
   "source": [
    "# challenge 3:\n",
    "- Sort the data by year in ascending order and inplace it.\n",
    "- Filter the dataset to show only shows released in 2020.\n",
    "- which year recorded the highest number of shows? What type of shows was mostly released in that year"
   ]
  },
  {
   "cell_type": "code",
   "execution_count": null,
   "metadata": {},
   "outputs": [],
   "source": []
  },
  {
   "cell_type": "markdown",
   "metadata": {},
   "source": [
    "# challenge 4\n",
    "- Create new 2 data frames, one for the data of movies only.\n",
    "One is for data on TV shows only.\n",
    "- delete the type column from both \n",
    "- add a column 'has_director' to indicate if the show has a director or not"
   ]
  },
  {
   "cell_type": "code",
   "execution_count": null,
   "metadata": {},
   "outputs": [],
   "source": []
  },
  {
   "cell_type": "markdown",
   "metadata": {},
   "source": [
    "# challenge 5\n",
    "Group the data by \"type\" (Movie/TV Show) And Count how many movies and TV shows were added each year."
   ]
  },
  {
   "cell_type": "code",
   "execution_count": null,
   "metadata": {},
   "outputs": [],
   "source": []
  },
  {
   "cell_type": "markdown",
   "metadata": {},
   "source": [
    "# Challenge 6\n",
    "Create a new column, is_recent, that flags as \"Recent\" if it contains releases from the last five years (relative to the current year)."
   ]
  },
  {
   "cell_type": "code",
   "execution_count": null,
   "metadata": {},
   "outputs": [],
   "source": []
  },
  {
   "cell_type": "markdown",
   "metadata": {},
   "source": [
    "# challenge 7\n",
    "Task: Use a pivot table to summarise and analyse the distribution of content ratings by year and type (Movie/TV Show).\n",
    "Fill empty spaces with 0"
   ]
  },
  {
   "cell_type": "code",
   "execution_count": null,
   "metadata": {},
   "outputs": [],
   "source": []
  },
  {
   "cell_type": "markdown",
   "metadata": {},
   "source": [
    "# challenge 8\n",
    "Modify the \"rating\" column to group similar ratings together. For example, group all \"PG-13\", \"TV-14\", and \"TV-PG\" ratings under a new label \"Teen\". and do a pivot table again"
   ]
  },
  {
   "cell_type": "code",
   "execution_count": null,
   "metadata": {},
   "outputs": [],
   "source": []
  }
 ],
 "metadata": {
  "kernelspec": {
   "display_name": "Python 3",
   "language": "python",
   "name": "python3"
  },
  "language_info": {
   "codemirror_mode": {
    "name": "ipython",
    "version": 3
   },
   "file_extension": ".py",
   "mimetype": "text/x-python",
   "name": "python",
   "nbconvert_exporter": "python",
   "pygments_lexer": "ipython3",
   "version": "3.10.4"
  }
 },
 "nbformat": 4,
 "nbformat_minor": 2
}
