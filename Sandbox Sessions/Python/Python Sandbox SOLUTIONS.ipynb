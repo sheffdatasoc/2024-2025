{
 "cells": [
  {
   "cell_type": "markdown",
   "metadata": {},
   "source": [
    "# _**Python Sandbox**_\n",
    "\n",
    "### **Challenge 1:** Control Structures - Loops and Conditional Statements\n",
    "### **Objective:** Write a Python script that checks numbers from 1 to 20 and prints whether each number is even or odd, and if it's a multiple of 3."
   ]
  },
  {
   "cell_type": "code",
   "execution_count": null,
   "metadata": {},
   "outputs": [],
   "source": [
    " \"\"\"\n",
    " - Expected Output Example:\n",
    "\n",
    "1 is Odd  \n",
    "2 is Even  \n",
    "3 is Odd and a multiple of 3 \n",
    "\"\"\""
   ]
  },
  {
   "cell_type": "markdown",
   "metadata": {},
   "source": [
    "### **Challenge 2**: Nested Loops - Creating Patterns\n",
    "### **Objective:** Use nested loops to print a simple number triangle pattern.\n",
    "\n"
   ]
  },
  {
   "cell_type": "code",
   "execution_count": null,
   "metadata": {},
   "outputs": [],
   "source": [
    "\"\"\"\n",
    "- Expected Output Example\n",
    "\n",
    " 1  \n",
    " 2 2  \n",
    " 3 3 3  \n",
    " 4 4 4 4  \n",
    " 5 5 5 5 5  \n",
    " \"\"\""
   ]
  },
  {
   "cell_type": "markdown",
   "metadata": {},
   "source": [
    "### **Challenge 3**: Functions - Area Calculator\n",
    "### **Objective**: Write a function named _**calculate_area**_ that takes the base and height of a triangle and returns the area.\n"
   ]
  },
  {
   "cell_type": "code",
   "execution_count": null,
   "metadata": {},
   "outputs": [],
   "source": [
    "# Example Usage:\n",
    "area = calculate_area(10, 5)  \n",
    "print(\"Area of the triangle is:\", area)\n",
    "# Example Output:\n",
    "# Area of the triangle is: 25.0"
   ]
  },
  {
   "cell_type": "markdown",
   "metadata": {},
   "source": [
    "### **Challenge 4:** Dictionaries - Inventory Management\n",
    "### **Objective:** Create a dictionary to represent the inventory of items in a store where the keys are item names and the values are the quantities. Write a function that allows adding new items or updating existing items.\n",
    " #### - **Tasks**\n",
    "    - Start with an initial inventory, e.g., {'apples': 30, 'bananas': 15}.  \n",
    "    - Define a function update_inventory(item, quantity) that either adds a new item or updates the existing item's quantity.  \n",
    "    - Test the function by adding new items and updating existing ones, then print the updated dictionary.  \n",
    "    - Expected functionality\n"
   ]
  },
  {
   "cell_type": "code",
   "execution_count": null,
   "metadata": {},
   "outputs": [],
   "source": [
    "#### Expected Functionality:\n",
    "update_inventory('apples', 5)  # should update the quantity of apples to 35  \n",
    "update_inventory('oranges', 10)  # should add oranges to the inventory with a quantity of 10  \n",
    "print(inventory)\n",
    "#### Expected Output: \n",
    "{'apples': 35, 'bananas': 15, 'oranges': 10}"
   ]
  },
  {
   "cell_type": "markdown",
   "metadata": {},
   "source": [
    "### **Challenge 5**: Accessing Data from Dictionaries\n",
    "\n",
    "### **Objective:** Understand how to access, modify, and check for items in a dictionary through a practical example.\n",
    "\n",
    "### **Scenario:** You are given a dictionary representing a phone book. Each entry in the phone book contains the person's name as the key and their phone number as the value. Your task is to access phone numbers, add new entries, and check if a certain name is in the phone book.\n",
    "\n",
    "#### - **Tasks**\n",
    "    1. Print the phone number of \"Alice\".\n",
    "    2. Add a new entry for \"Charlie\" with the number \"789-555-1234\".\n",
    "    3. Check if \"David\" is in the phone book and print a relevant message.\n",
    "    4. Print all names in the phone book."
   ]
  },
  {
   "cell_type": "code",
   "execution_count": null,
   "metadata": {},
   "outputs": [],
   "source": [
    "# Initial Dictionary:\n",
    "phone_book = {\n",
    "    \"Alice\": \"123-456-7890\",\n",
    "    \"Bob\": \"987-654-3210\"\n",
    "}"
   ]
  }
 ],
 "metadata": {
  "language_info": {
   "name": "python"
  }
 },
 "nbformat": 4,
 "nbformat_minor": 2
}
