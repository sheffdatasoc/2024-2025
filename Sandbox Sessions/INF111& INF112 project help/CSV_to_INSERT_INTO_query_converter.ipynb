{
  "nbformat": 4,
  "nbformat_minor": 0,
  "metadata": {
    "colab": {
      "provenance": []
    },
    "kernelspec": {
      "name": "python3",
      "display_name": "Python 3"
    },
    "language_info": {
      "name": "python"
    }
  },
  "cells": [
    {
      "cell_type": "code",
      "execution_count": 1,
      "metadata": {
        "id": "t1nBGdqcjl9l"
      },
      "outputs": [],
      "source": [
        "import csv\n",
        "\n",
        "def csv_to_query(file):\n",
        "  '''Gets the inputed csv file and outputs an INSERT INTO SQL query\n",
        "\n",
        "  Parameters:\n",
        "  -----------\n",
        "  file : str\n",
        "    Should be the same name as the .csv used with the .csv at the end\n",
        "  '''\n",
        "\n",
        "  #Initalises a list of headers\n",
        "  headers = []\n",
        "\n",
        "  #Gets the number of rows in a csv file\n",
        "  length = get_csv_length(file)\n",
        "\n",
        "  #Opens the .csv file and iterates over it with enumeration to get the row count\n",
        "  with open(file,'r') as data:\n",
        "    for count,line in enumerate(csv.reader(data)):\n",
        "\n",
        "      #If the row count isn't the first or last it will print out the row\n",
        "      #surrounded by brackets with a comma at the end to indicate there is a row\n",
        "      #after\n",
        "      if count != 0 and count != length:\n",
        "        print(\"(\"+str(line).strip(\"[]\")+\"),\")\n",
        "\n",
        "      #If it is the last row in the csv it will print out the row surrounded by\n",
        "      #brackets with a semi-colon at the end to indicate it is the last row\n",
        "      elif count == length:\n",
        "        print(\"(\"+str(line).strip(\"[]\")+\");\")\n",
        "\n",
        "      #If it is the first row of the csv file (the header row) it will append\n",
        "      #the row to the list of headers and print out the start of the query by\n",
        "      #getting the table name from the csv file and formating the headers into\n",
        "      #the rest of the statement\n",
        "      else:\n",
        "        headers.append(line)\n",
        "        print('INSERT INTO',file[0:-4],'('+str(headers).strip(\"[]\").replace(\"'\",\"\")+')')\n",
        "        print('VALUES')\n",
        "\n",
        "  #Exits the function\n",
        "  return \"\"\n",
        "\n",
        "def get_csv_length(file):\n",
        "  '''Gets the inputed csv file and finds how many rows are in it\n",
        "\n",
        "  Parameters:\n",
        "  -----------\n",
        "  file : str\n",
        "    Should be the same name as the .csv used with the .csv at the end\n",
        "  '''\n",
        "\n",
        "  #Initalises the length\n",
        "  length = 0\n",
        "\n",
        "  #Opens the .csv file and iterates over it with enumeration to get the row\n",
        "  #count to find the length\n",
        "  with open(file,'r') as data:\n",
        "    for count,line in enumerate(csv.reader(data)):\n",
        "      length = count\n",
        "\n",
        "  #returns the number of lines in the .csv file\n",
        "  return length"
      ]
    },
    {
      "cell_type": "code",
      "source": [
        "'''To convert your csv file into an INSERT INTO query to add to your SQL database\n",
        "   It needs to follow a few rules\n",
        "\n",
        "   1 - The .csv file must only contain 1 tables data\n",
        "\n",
        "   2 - The name of the csv file needs to be the name_of_the_table.csv so that\n",
        "       you don't have to change the name of the table in the output after\n",
        "       e.g. items.csv\n",
        "\n",
        "   3 - The first row of the csv must be the column headers\n",
        "\n",
        "   4 - The .csv file must be in the files section of colab or you will get a\n",
        "       FileNotFoundError: [Errno 2] No such file or directory: 'FILENAME GOES HERE'\n",
        "'''\n",
        "\n",
        "#Put your csv file name in the print statement below\n",
        "print(csv_to_query('FILENAME GOES HERE'))"
      ],
      "metadata": {
        "colab": {
          "base_uri": "https://localhost:8080/",
          "height": 176
        },
        "id": "5EXkK_kWtqk2",
        "outputId": "1f2d9802-6b02-42e9-a3d2-a4137870676a"
      },
      "execution_count": 1,
      "outputs": [
        {
          "output_type": "error",
          "ename": "NameError",
          "evalue": "name 'csv_to_query' is not defined",
          "traceback": [
            "\u001b[0;31m---------------------------------------------------------------------------\u001b[0m",
            "\u001b[0;31mNameError\u001b[0m                                 Traceback (most recent call last)",
            "\u001b[0;32m<ipython-input-1-351e314c9254>\u001b[0m in \u001b[0;36m<cell line: 17>\u001b[0;34m()\u001b[0m\n\u001b[1;32m     15\u001b[0m \u001b[0;34m\u001b[0m\u001b[0m\n\u001b[1;32m     16\u001b[0m \u001b[0;31m#Put your csv file name in the print statement below\u001b[0m\u001b[0;34m\u001b[0m\u001b[0;34m\u001b[0m\u001b[0m\n\u001b[0;32m---> 17\u001b[0;31m \u001b[0mprint\u001b[0m\u001b[0;34m(\u001b[0m\u001b[0mcsv_to_query\u001b[0m\u001b[0;34m(\u001b[0m\u001b[0;34m'FILENAME GOES HERE'\u001b[0m\u001b[0;34m)\u001b[0m\u001b[0;34m)\u001b[0m\u001b[0;34m\u001b[0m\u001b[0;34m\u001b[0m\u001b[0m\n\u001b[0m",
            "\u001b[0;31mNameError\u001b[0m: name 'csv_to_query' is not defined"
          ]
        }
      ]
    }
  ]
}